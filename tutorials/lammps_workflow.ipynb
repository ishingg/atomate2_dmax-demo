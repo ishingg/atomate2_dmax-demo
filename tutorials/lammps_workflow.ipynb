{
 "cells": [
  {
   "cell_type": "markdown",
   "metadata": {},
   "source": [
    "# Running MD in LAMMPS"
   ]
  },
  {
   "cell_type": "markdown",
   "metadata": {},
   "source": [
    "This is a reference for how the atomate2 flows for running MD with LAMMPS can be initialized. These flows were written with solids in mind (i.e., primarily pair_style interactions with no real bond topologies), and as such are based on using the Pymatgen Structure objects as inputs. "
   ]
  },
  {
   "cell_type": "code",
   "execution_count": null,
   "metadata": {},
   "outputs": [],
   "source": [
    "from pymatgen.core import Structure\n",
    "from atomate2.lammps.jobs.core import LammpsNPTMaker, CustomLammpsMaker\n",
    "from jobflow import run_locally\n",
    "from pymatgen.io.lammps.generators import LammpsInputFile, LammpsData, _BASE_LAMMPS_SETTINGS\n",
    "from atomate2.lammps.sets.core import LammpsNPTSet"
   ]
  },
  {
   "cell_type": "markdown",
   "metadata": {},
   "source": [
    "Running a LAMMPS simulation requires 3 files:\n",
    "1. in.lammps : input file with all the necessary parameters for the simulation\n",
    "2. forcefield.lammps : Contains all the parameters needed to construct the force field\n",
    "3. system.data : Contains data about atoms/bonding and the simulation box"
   ]
  },
  {
   "cell_type": "markdown",
   "metadata": {},
   "source": [
    "In these flows, #1 can be specified by the user or taken from templates in pymatgen.io.lammps.templates. #2 is specified either as a string or a dict with the keys usually associated with forcefields, #3 is provided either as a Pymatgen Structure or a LammpsData object. "
   ]
  },
  {
   "cell_type": "markdown",
   "metadata": {},
   "source": [
    "Let's start with the forcefield file. Both representations below are equivalent:"
   ]
  },
  {
   "cell_type": "code",
   "execution_count": null,
   "metadata": {},
   "outputs": [],
   "source": [
    "force_field = {'pair_style': 'tersoff', \n",
    "               'pair_coeff': '* * /some/path/Si.tersoff Si', \n",
    "               'species': [\"Si\"]}\n",
    "force_field = 'pair_coeff * * /some/path/Si.tersoff Si'"
   ]
  },
  {
   "cell_type": "markdown",
   "metadata": {},
   "source": [
    "If using the second representation, make sure to specify the \"pair_style\", \"bond_style\", ... etc. when defining the Maker/input_set_generator.\n",
    "\n",
    "Due to the wide vareity of forcefields and forcefield formats out there, these inputs aren't validated presently, and are instead directly written to a forcefield.lammps file. "
   ]
  },
  {
   "cell_type": "markdown",
   "metadata": {},
   "source": [
    "With the forcefield defined, we have 2 options for how to define the simulation:\n",
    "1. Use the implemented makers (NVT/NPT/NVE/Minimization/MeltQuench)\n",
    "2. Use a custom input file\n",
    "\n",
    "Approach #1 is of use if you want to run a standard MD simulation with predefined inputs that match MD settings from other atomate2 workflows (such as ASEMD or VASPMD for example).\n",
    "#2 is the way to go if you have a more complex MD simulation, for which you already have a pre-written input file. \n",
    "\n",
    "Let's first see how to do #1:"
   ]
  },
  {
   "cell_type": "markdown",
   "metadata": {},
   "source": [
    "## Using predefined Makers"
   ]
  },
  {
   "cell_type": "code",
   "execution_count": null,
   "metadata": {},
   "outputs": [],
   "source": [
    "maker = LammpsNPTMaker(force_field=force_field)"
   ]
  },
  {
   "cell_type": "markdown",
   "metadata": {},
   "source": [
    "To get more control over the parameters, you instead also do:"
   ]
  },
  {
   "cell_type": "code",
   "execution_count": null,
   "metadata": {},
   "outputs": [],
   "source": [
    "input_set_generator = LammpsNPTSet(barostat='berendsen',\n",
    "                                   temperature=300,\n",
    "                                   pressure=1.0,\n",
    "                                   force_field=force_field,\n",
    "                                   timestep=0.001,\n",
    "                                   nsteps=1000,\n",
    "                                   friction=0.1)\n",
    "\n",
    "maker.input_set_generator = input_set_generator\n",
    "\n",
    "#OR\n",
    "\n",
    "updates = {\"barostat\": \"berendsen\",\n",
    "           \"temperature\": 300,\n",
    "           \"pressure\": 1.0,\n",
    "           \"timestep\": 0.001,\n",
    "           \"nsteps\": 1000,\n",
    "           \"friction\": 0.1}\n",
    "maker.input_set_generator.update_settings(updates)"
   ]
  },
  {
   "cell_type": "markdown",
   "metadata": {},
   "source": [
    "Another thing to note: the force field can be specified as input either to the maker or the input set generator to allow for flexibility. \n",
    "Also: All units by defualt are in \"metal\" to better match the other solid-state MD sets. \n",
    "\n",
    "The defualt values for the inputs are in the _BASE_LAMMPS_SETTINGS object. "
   ]
  },
  {
   "cell_type": "code",
   "execution_count": null,
   "metadata": {},
   "outputs": [],
   "source": [
    "#example structure\n",
    "si_structure = Structure(\n",
    "    lattice=[[0, 0, 2.73], [2.73, 0, 0], [0, 2.73, 0]],\n",
    "    species=[\"Si\", \"Si\"],\n",
    "    coords=[[0, 0, 0], [0.5, 0.5, 0.5]],\n",
    ")"
   ]
  },
  {
   "cell_type": "markdown",
   "metadata": {},
   "source": [
    "Once everything is defined, make the job. If your simulation relies on additional data (such as extra force field files or bond topologies), provide that as an arguement to the .make() method of the maker. This file will be written as \"extra.data\" in the run directory and an additional line \"include extra.data\" will be written in the input file before any fixes are applied. "
   ]
  },
  {
   "cell_type": "code",
   "execution_count": null,
   "metadata": {},
   "outputs": [],
   "source": [
    "job = maker.make(si_structure)"
   ]
  },
  {
   "cell_type": "markdown",
   "metadata": {},
   "source": [
    "Then, run the job using your prefered workflow manager. For completeness, here's what running it locally gives:"
   ]
  },
  {
   "cell_type": "code",
   "execution_count": null,
   "metadata": {},
   "outputs": [],
   "source": [
    "job_output  = run_locally(job, create_folders=True)\n",
    "output = job_output[job.uuid][1].output"
   ]
  },
  {
   "cell_type": "markdown",
   "metadata": {},
   "source": [
    "The TaskDoc by defualt saves a copy of the inputs and the log files generated in the simulation. It also stores the dumpfiles in the store configured with jobflow. These dumpfiles *can* be parsed when constructing the taskdoc and accessed via output.trajectories; but this is not done by default since lammps dump files can be excessively large. You can turn this on when defining the maker, but be warned about the runtime!"
   ]
  },
  {
   "cell_type": "markdown",
   "metadata": {},
   "source": [
    "## Custom jobs"
   ]
  },
  {
   "cell_type": "markdown",
   "metadata": {},
   "source": [
    "If you instead have a custom input file, you can instead use the CustomLammpsMaker to run your simulation. If you want to have custom arguements in there, define them with $variables and specify the variables as dictionary. "
   ]
  },
  {
   "cell_type": "code",
   "execution_count": null,
   "metadata": {},
   "outputs": [],
   "source": [
    "input_file = '/path/to/input_file'\n",
    "#or\n",
    "input_file = 'string representation of input file'\n",
    "#or\n",
    "input_file = LammpsInputFile.from_file(input_file)\n",
    "\n",
    "\n",
    "settings = {\"variable\" : \"value\"}\n",
    "maker = CustomLammpsMaker(inputfile=input_file,\n",
    "                          force_field=force_field,\n",
    "                          settings=settings)"
   ]
  },
  {
   "cell_type": "markdown",
   "metadata": {},
   "source": [
    "A more concrete example is:"
   ]
  },
  {
   "cell_type": "code",
   "execution_count": null,
   "metadata": {},
   "outputs": [],
   "source": [
    "input_file = 'units $units \\n atom_style $atom_style \\n dimension 3 \\n boundary p p p \\n read_data system.data \\n pair_style $pair_style \\n include forcefield.lammps \\n min_style cg \\n minimize 0.0001 0.0001 1000 10000000 \\n write_data run.data'"
   ]
  },
  {
   "cell_type": "markdown",
   "metadata": {},
   "source": [
    "This inputfile does a very simple geometry relaxation. \n",
    "Inputs such as \"units\" (or anything else with a \"$\") can be specified as:"
   ]
  },
  {
   "cell_type": "code",
   "execution_count": null,
   "metadata": {},
   "outputs": [],
   "source": [
    "settings = {\"units\": \"metal\",\n",
    "           \"pair_style\": \"lj/cut 2.5\"}\n",
    "\n",
    "maker = CustomLammpsMaker(inputfile=input_file,\n",
    "                          force_field=force_field,\n",
    "                          settings=settings)\n",
    "\n",
    "job = maker.make(si_structure)\n",
    "job_output = run_locally(job, create_folders=True)"
   ]
  },
  {
   "cell_type": "markdown",
   "metadata": {},
   "source": [
    "This way, even custom lammps jobs can be run in high-throughput on an HPC, with access to all the benefits of atomate2 and jobflow. \n",
    "\n",
    "If you face issues of the inputs you specify in the settings dict being incorrectly validated, provide validate_params=False and use_defaults=False when initializing the CustomLammpsMaker."
   ]
  },
  {
   "cell_type": "markdown",
   "metadata": {},
   "source": []
  }
 ],
 "metadata": {
  "kernelspec": {
   "display_name": "at2-lmp",
   "language": "python",
   "name": "python3"
  },
  "language_info": {
   "name": "python",
   "version": "3.10.13"
  },
  "orig_nbformat": 4
 },
 "nbformat": 4,
 "nbformat_minor": 2
}
